{
 "metadata": {
  "language_info": {
   "codemirror_mode": {
    "name": "ipython",
    "version": 3
   },
   "file_extension": ".py",
   "mimetype": "text/x-python",
   "name": "python",
   "nbconvert_exporter": "python",
   "pygments_lexer": "ipython3",
   "version": 3
  },
  "orig_nbformat": 2
 },
 "nbformat": 4,
 "nbformat_minor": 2,
 "cells": [
  {
   "cell_type": "code",
   "execution_count": null,
   "metadata": {},
   "outputs": [],
   "source": [
    "### Scores by School Type\n",
    "\n",
    "#* Repeat the above breakdown, but this time group schools based on school type (Charter vs. District).\n",
    "\n",
    "#As final considerations:\n",
    "\n",
    "#* Use the pandas library and Jupyter Notebook.\n",
    "#* You must submit a link to your Github/Git Lab repo that contains your Jupyter Notebook.\n",
    "#* You must include a written description of at least two observable trends based on the data.\n",
    "#* See [Example Solution](PyCitySchools/PyCitySchools_starter.ipynb) for a reference on the expected format."
   ]
  },
  {
   "cell_type": "code",
   "execution_count": null,
   "metadata": {},
   "outputs": [],
   "source": [
    "# Dependencies and Setup\n",
    "import pandas as pd\n",
    "\n",
    "# File to Load (Remember to Change These)\n",
    "school_data_to_load = \"Resources/schools_complete.csv\"\n",
    "student_data_to_load = \"Resources/students_complete.csv\"\n",
    "\n",
    "# Read School and Student Data File and store into Pandas DataFrames\n",
    "school_data = pd.read.csv(school_data_to_load)\n",
    "student_data = pd.read.csv(student_data_to_load)\n",
    "\n",
    "# Combine the data into a single dataset\n",
    "school_data_complete = pd.merge(student_data, school_data, how=\"left\", on+[\"school_name\", \"school_name\"])"
   ]
  },
  {
   "cell_type": "code",
   "execution_count": null,
   "metadata": {},
   "outputs": [],
   "source": [
    "### District Summary\n",
    "\n",
    "#* Create a high level snapshot (in table form) of the district's key metrics, including:\n",
    "#  * Total Schools\n",
    "#  * Total Students\n",
    "#  * Total Budget\n",
    "#  * Average Math Score\n",
    "#  * Average Reading Score\n",
    "#  * % Passing Math (The percentage of students that passed math.)\n",
    "#  * % Passing Reading (The percentage of students that passed reading.)\n",
    "#  * % Overall Passing (The percentage of students that passed math **and** reading.)\n"
   ]
  },
  {
   "cell_type": "code",
   "execution_count": null,
   "metadata": {},
   "outputs": [],
   "source": [
    "### School Summary\n",
    "\n",
    "#* Create an overview table that summarizes key metrics about each school, including:\n",
    "#  * School Name\n",
    "#  * School Type\n",
    "#  * Total Students\n",
    "#  * Total School Budget\n",
    "#  * Per Student Budget\n",
    "#  * Average Math Score\n",
    "#  * Average Reading Score\n",
    "#  * % Passing Math (The percentage of students that passed math.)\n",
    "#  * % Passing Reading (The percentage of students that passed reading.)\n",
    "#  * % Overall Passing (The percentage of students that passed math **and** reading.)\n"
   ]
  },
  {
   "cell_type": "code",
   "execution_count": null,
   "metadata": {},
   "outputs": [],
   "source": [
    "### Top Performing Schools (By % Overall Passing)\n",
    "\n",
    "#* Create a table that highlights the top 5 performing schools based on % Overall Passing. Include:\n",
    "#  * School Name\n",
    "#  * School Type\n",
    "#  * Total Students\n",
    "#  * Total School Budget\n",
    "#  * Per Student Budget\n",
    "#  * Average Math Score\n",
    "#  * Average Reading Score\n",
    "#  * % Passing Math (The percentage of students that passed math.)\n",
    "#  * % Passing Reading (The percentage of students that passed reading.)\n",
    "#  * % Overall Passing (The percentage of students that passed math **and** reading.)"
   ]
  },
  {
   "cell_type": "code",
   "execution_count": null,
   "metadata": {},
   "outputs": [],
   "source": [
    "### Bottom Performing Schools (By % Overall Passing)\n",
    "\n",
    "#* Create a table that highlights the bottom 5 performing schools based on % Overall Passing. Include all of the same metrics as above."
   ]
  },
  {
   "cell_type": "code",
   "execution_count": null,
   "metadata": {},
   "outputs": [],
   "source": [
    "### Math Scores by Grade\\*\\*\n",
    "\n",
    "#* Create a table that lists the average Math Score for students of each grade level (9th, 10th, 11th, 12th) at each school."
   ]
  },
  {
   "cell_type": "code",
   "execution_count": null,
   "metadata": {},
   "outputs": [],
   "source": [
    "### Reading Scores by Grade\n",
    "\n",
    "#* Create a table that lists the average Reading Score for students of each grade level (9th, 10th, 11th, 12th) at each school."
   ]
  },
  {
   "cell_type": "code",
   "execution_count": null,
   "metadata": {},
   "outputs": [],
   "source": [
    "### Scores by School Spending\n",
    "\n",
    "#* Create a table that breaks down school performances based on average Spending Ranges (Per Student). Use 4 reasonable bins to group school spending. Include in the table each of the following:\n",
    "#  * Average Math Score\n",
    "#  * Average Reading Score\n",
    "#  * % Passing Math (The percentage of students that passed math.)\n",
    "#  * % Passing Reading (The percentage of students that passed reading.)\n",
    "#  * % Overall Passing (The percentage of students that passed math **and** reading.)"
   ]
  },
  {
   "cell_type": "code",
   "execution_count": null,
   "metadata": {},
   "outputs": [],
   "source": [
    "### Scores by School Size\n",
    "\n",
    "#* Repeat the above breakdown, but this time group schools based on a reasonable approximation of school size (Small, Medium, Large)."
   ]
  }
 ]
}